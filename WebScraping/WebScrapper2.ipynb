{
 "cells": [
  {
   "cell_type": "code",
   "execution_count": 25,
   "id": "7ab8b9d8",
   "metadata": {},
   "outputs": [],
   "source": [
    "import requests\n",
    "from bs4 import BeautifulSoup\n",
    "import pandas as pd"
   ]
  },
  {
   "cell_type": "code",
   "execution_count": 26,
   "id": "707302b1",
   "metadata": {},
   "outputs": [],
   "source": [
    "HEADERS = ({\"User-Agent\":\"Mozilla/5.0 (Windows NT 10.0; Win64; x64) \\\n",
    "AppleWebKit/537.36 (KHTML, like Gecko) \\\n",
    "Chrome/90.0.4430.212 Safari/537.36\",\"Accept-Language\":\"en-US,en:q=0.5\"})"
   ]
  },
  {
   "cell_type": "code",
   "execution_count": 27,
   "id": "e104e99f",
   "metadata": {},
   "outputs": [],
   "source": [
    "def getData(site_url):\n",
    "    res = requests.get(site_url, headers=HEADERS)\n",
    "    return res.text;\n",
    "\n",
    "def getHtml(site_url):\n",
    "    data = getData(site_url)\n",
    "    soup = BeautifulSoup(data, 'html.parser')\n",
    "    return soup"
   ]
  },
  {
   "cell_type": "code",
   "execution_count": 28,
   "id": "a35fa9e2",
   "metadata": {},
   "outputs": [],
   "source": [
    "site_url = \"https://www.flipkart.com/asus-tuf-gaming-f15-core-i5-10th-gen-8-gb-512-gb-ssd-windows-10-home-4-graphics-nvidia-geforce-gtx-1650-144-hz-fx506lh-hn258t-laptop/product-reviews/itm834e03127f443?pid=COMGFVWMDZPGK4WR&lid=LSTCOMGFVWMDZPGK4WRWRM8ES&marketplace=FLIPKART\""
   ]
  },
  {
   "cell_type": "code",
   "execution_count": 29,
   "id": "3b377a7a",
   "metadata": {},
   "outputs": [
    {
     "name": "stdout",
     "output_type": "stream",
     "text": [
      "['Suyash Kumar', 'Subhash  Kamti ', 'Jai Ganesh', 'YAYTHISH KANNAA G S', 'Dintakurthi swaroop', 'Mayank Kumar', 'Vshrupt Modi', 'Yuvraj Chauhan', 'Sachin garg Customer', 'Flipkart Customer']\n"
     ]
    }
   ],
   "source": [
    "def getCustomerName(soup):\n",
    "    name = \"\"\n",
    "    name_list = []\n",
    "    \n",
    "    for item in soup.findAll('p', class_='_2sc7ZR _2V5EHH'):\n",
    "        name = name + item.get_text()\n",
    "        name_list.append(name)\n",
    "        name = \"\"\n",
    "    return name_list\n",
    "\n",
    "name_res = getCustomerName(soup)\n",
    "print(name_res)"
   ]
  },
  {
   "cell_type": "code",
   "execution_count": 30,
   "id": "c81731ac",
   "metadata": {},
   "outputs": [
    {
     "name": "stdout",
     "output_type": "stream",
     "text": [
      "['Excellent', 'Awesome', 'Terrific purchase', 'Terrific', 'Wonderful', 'Review after excessive use of 7 days.', 'Mind-blowing purchase', 'Awesome', 'Fabulous!', 'The weight on the scales... good trade off for you?']\n"
     ]
    }
   ],
   "source": [
    "def getCustomerReview(soup):\n",
    "    rev = \"\"\n",
    "    rev_list = []\n",
    "    \n",
    "    for item in soup.find_all('p', class_ = '_2-N8zT'):\n",
    "        rev = rev + item.get_text()\n",
    "        rev_list.append(rev)\n",
    "        rev = \"\"\n",
    "    return rev_list\n",
    "\n",
    "review_res = getCustomerReview(soup)\n",
    "print(review_res)"
   ]
  },
  {
   "cell_type": "code",
   "execution_count": 31,
   "id": "6f39b6bb",
   "metadata": {},
   "outputs": [
    {
     "name": "stdout",
     "output_type": "stream",
     "text": [
      "['5', '5', '5', '5', '4', '4', '5', '5', '5', '5']\n"
     ]
    }
   ],
   "source": [
    "def getCustomerRating(soup):\n",
    "    rate = \"\"\n",
    "    rate_list = []\n",
    "    \n",
    "    for item in soup.findAll('div', class_='_3LWZlK _1BLPMq'):\n",
    "        rate = rate + item.get_text()\n",
    "        rate_list.append(rate)\n",
    "        rate = \"\"\n",
    "    return rate_list\n",
    "\n",
    "rating_res = getCustomerRating(soup)\n",
    "print(rating_res)"
   ]
  },
  {
   "cell_type": "code",
   "execution_count": 32,
   "id": "58c2330b",
   "metadata": {},
   "outputs": [
    {
     "name": "stdout",
     "output_type": "stream",
     "text": [
      "['Certified Buyer, Karnal', 'Certified Buyer, Purnia', 'Certified Buyer, Ariyalur', 'Certified Buyer, Mettunasuvanpalayam', 'Certified Buyer, Srikakulam', 'Certified Buyer, Meerut', 'Certified Buyer, Ramgarh Cantonment Civil Township', 'Certified Buyer, Bhavnagar District', 'Certified Buyer, Bilaspur', 'Certified Buyer, Jaipur']\n"
     ]
    }
   ],
   "source": [
    "def getCustomerPlace(soup):\n",
    "    place = ''\n",
    "    place_list = []\n",
    "    \n",
    "    for item in soup.findAll('p', class_='_2mcZGG'):\n",
    "        place = place + item.get_text()\n",
    "        place_list.append(place)\n",
    "        place = \"\"\n",
    "    return place_list\n",
    "\n",
    "place_res = getCustomerPlace(soup)\n",
    "print(place_res)"
   ]
  },
  {
   "cell_type": "code",
   "execution_count": 35,
   "id": "b762c8f5",
   "metadata": {},
   "outputs": [
    {
     "name": "stdout",
     "output_type": "stream",
     "text": [
      "['Suyash Kumar', 'Sep, 2021', 'Subhash  Kamti ', 'Jul, 2021', 'Jai Ganesh', 'Aug, 2021', 'YAYTHISH KANNAA G S', 'Jun, 2021', 'Dintakurthi swaroop', 'May, 2021', 'Mayank Kumar', 'Jul, 2021', 'Vshrupt Modi', 'May, 2021', 'Yuvraj Chauhan', 'Feb, 2022', 'Sachin garg Customer', 'Jul, 2021', 'Flipkart Customer', 'Jul, 2021']\n"
     ]
    }
   ],
   "source": [
    "def getCustomerDate(soup):\n",
    "    date = ''\n",
    "    date_list = []\n",
    "    \n",
    "    for item in soup.findAll('p', class_='_2sc7ZR'):\n",
    "        date = date + item.get_text()\n",
    "        date_list.append(date)\n",
    "        date = \"\"\n",
    "    return date_list\n",
    "\n",
    "date_res = getCustomerDate(soup)\n",
    "print(date_res)"
   ]
  },
  {
   "cell_type": "code",
   "execution_count": 40,
   "id": "a44fc3b8",
   "metadata": {},
   "outputs": [],
   "source": [
    "customer_data = {\"Name\":name_res, \"Review\":review_res, \"Rating\": rating_res, \"Place\": place_res}"
   ]
  },
  {
   "cell_type": "code",
   "execution_count": 41,
   "id": "747347f4",
   "metadata": {},
   "outputs": [
    {
     "data": {
      "text/html": [
       "<div>\n",
       "<style scoped>\n",
       "    .dataframe tbody tr th:only-of-type {\n",
       "        vertical-align: middle;\n",
       "    }\n",
       "\n",
       "    .dataframe tbody tr th {\n",
       "        vertical-align: top;\n",
       "    }\n",
       "\n",
       "    .dataframe thead th {\n",
       "        text-align: right;\n",
       "    }\n",
       "</style>\n",
       "<table border=\"1\" class=\"dataframe\">\n",
       "  <thead>\n",
       "    <tr style=\"text-align: right;\">\n",
       "      <th></th>\n",
       "      <th>Name</th>\n",
       "      <th>Review</th>\n",
       "      <th>Rating</th>\n",
       "      <th>Place</th>\n",
       "    </tr>\n",
       "  </thead>\n",
       "  <tbody>\n",
       "    <tr>\n",
       "      <th>0</th>\n",
       "      <td>Suyash Kumar</td>\n",
       "      <td>Excellent</td>\n",
       "      <td>5</td>\n",
       "      <td>Certified Buyer, Karnal</td>\n",
       "    </tr>\n",
       "    <tr>\n",
       "      <th>1</th>\n",
       "      <td>Subhash  Kamti</td>\n",
       "      <td>Awesome</td>\n",
       "      <td>5</td>\n",
       "      <td>Certified Buyer, Purnia</td>\n",
       "    </tr>\n",
       "    <tr>\n",
       "      <th>2</th>\n",
       "      <td>Jai Ganesh</td>\n",
       "      <td>Terrific purchase</td>\n",
       "      <td>5</td>\n",
       "      <td>Certified Buyer, Ariyalur</td>\n",
       "    </tr>\n",
       "    <tr>\n",
       "      <th>3</th>\n",
       "      <td>YAYTHISH KANNAA G S</td>\n",
       "      <td>Terrific</td>\n",
       "      <td>5</td>\n",
       "      <td>Certified Buyer, Mettunasuvanpalayam</td>\n",
       "    </tr>\n",
       "    <tr>\n",
       "      <th>4</th>\n",
       "      <td>Dintakurthi swaroop</td>\n",
       "      <td>Wonderful</td>\n",
       "      <td>4</td>\n",
       "      <td>Certified Buyer, Srikakulam</td>\n",
       "    </tr>\n",
       "    <tr>\n",
       "      <th>5</th>\n",
       "      <td>Mayank Kumar</td>\n",
       "      <td>Review after excessive use of 7 days.</td>\n",
       "      <td>4</td>\n",
       "      <td>Certified Buyer, Meerut</td>\n",
       "    </tr>\n",
       "    <tr>\n",
       "      <th>6</th>\n",
       "      <td>Vshrupt Modi</td>\n",
       "      <td>Mind-blowing purchase</td>\n",
       "      <td>5</td>\n",
       "      <td>Certified Buyer, Ramgarh Cantonment Civil Town...</td>\n",
       "    </tr>\n",
       "    <tr>\n",
       "      <th>7</th>\n",
       "      <td>Yuvraj Chauhan</td>\n",
       "      <td>Awesome</td>\n",
       "      <td>5</td>\n",
       "      <td>Certified Buyer, Bhavnagar District</td>\n",
       "    </tr>\n",
       "    <tr>\n",
       "      <th>8</th>\n",
       "      <td>Sachin garg Customer</td>\n",
       "      <td>Fabulous!</td>\n",
       "      <td>5</td>\n",
       "      <td>Certified Buyer, Bilaspur</td>\n",
       "    </tr>\n",
       "    <tr>\n",
       "      <th>9</th>\n",
       "      <td>Flipkart Customer</td>\n",
       "      <td>The weight on the scales... good trade off for...</td>\n",
       "      <td>5</td>\n",
       "      <td>Certified Buyer, Jaipur</td>\n",
       "    </tr>\n",
       "  </tbody>\n",
       "</table>\n",
       "</div>"
      ],
      "text/plain": [
       "                   Name                                             Review  \\\n",
       "0          Suyash Kumar                                          Excellent   \n",
       "1       Subhash  Kamti                                             Awesome   \n",
       "2            Jai Ganesh                                  Terrific purchase   \n",
       "3   YAYTHISH KANNAA G S                                           Terrific   \n",
       "4   Dintakurthi swaroop                                          Wonderful   \n",
       "5          Mayank Kumar              Review after excessive use of 7 days.   \n",
       "6          Vshrupt Modi                              Mind-blowing purchase   \n",
       "7        Yuvraj Chauhan                                            Awesome   \n",
       "8  Sachin garg Customer                                          Fabulous!   \n",
       "9     Flipkart Customer  The weight on the scales... good trade off for...   \n",
       "\n",
       "  Rating                                              Place  \n",
       "0      5                            Certified Buyer, Karnal  \n",
       "1      5                            Certified Buyer, Purnia  \n",
       "2      5                          Certified Buyer, Ariyalur  \n",
       "3      5               Certified Buyer, Mettunasuvanpalayam  \n",
       "4      4                        Certified Buyer, Srikakulam  \n",
       "5      4                            Certified Buyer, Meerut  \n",
       "6      5  Certified Buyer, Ramgarh Cantonment Civil Town...  \n",
       "7      5                Certified Buyer, Bhavnagar District  \n",
       "8      5                          Certified Buyer, Bilaspur  \n",
       "9      5                            Certified Buyer, Jaipur  "
      ]
     },
     "execution_count": 41,
     "metadata": {},
     "output_type": "execute_result"
    }
   ],
   "source": [
    "df = pd.DataFrame(customer_data)\n",
    "df"
   ]
  },
  {
   "cell_type": "code",
   "execution_count": null,
   "id": "8e795ecf",
   "metadata": {},
   "outputs": [],
   "source": []
  }
 ],
 "metadata": {
  "kernelspec": {
   "display_name": "Python 3 (ipykernel)",
   "language": "python",
   "name": "python3"
  },
  "language_info": {
   "codemirror_mode": {
    "name": "ipython",
    "version": 3
   },
   "file_extension": ".py",
   "mimetype": "text/x-python",
   "name": "python",
   "nbconvert_exporter": "python",
   "pygments_lexer": "ipython3",
   "version": "3.9.13"
  }
 },
 "nbformat": 4,
 "nbformat_minor": 5
}
