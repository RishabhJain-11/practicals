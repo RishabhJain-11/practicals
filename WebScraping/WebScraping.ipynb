{
 "cells": [
  {
   "cell_type": "code",
   "execution_count": 89,
   "id": "2bfa749b",
   "metadata": {},
   "outputs": [],
   "source": [
    "import requests\n",
    "from bs4 import BeautifulSoup\n",
    "import pandas as pd"
   ]
  },
  {
   "cell_type": "code",
   "execution_count": 101,
   "id": "b95754d7",
   "metadata": {},
   "outputs": [],
   "source": [
    "HEADERS = ({\"User-Agent\":\"Mozilla/5.0 (Windows NT 10.0; Win64; x64) \\\n",
    "AppleWebKit/537.36 (KHTML, like Gecko) \\\n",
    "Chrome/90.0.4430.212 Safari/537.36\",\"Accept-Language\":\"en-US,en:q=0.5\"})"
   ]
  },
  {
   "cell_type": "code",
   "execution_count": 102,
   "id": "a8d72206",
   "metadata": {},
   "outputs": [],
   "source": [
    "def getData(site_url):\n",
    "    res = requests.get(site_url, headers=HEADERS)\n",
    "    return res.text;"
   ]
  },
  {
   "cell_type": "code",
   "execution_count": 103,
   "id": "6759c46f",
   "metadata": {},
   "outputs": [],
   "source": [
    "def gethtml(site_url):\n",
    "    data = getData(site_url)\n",
    "    soup = BeautifulSoup(data, 'html.parser')\n",
    "    return soup"
   ]
  },
  {
   "cell_type": "code",
   "execution_count": 104,
   "id": "cb56e465",
   "metadata": {},
   "outputs": [],
   "source": [
    "site_url = \"https://www.flipkart.com/lenovo-ideapad-gaming-3-ryzen-7-octa-core-amd-r7-5800h-8-gb-512-gb-ssd-windows-11-home-4-graphics-nvidia-geforce-rtx-3050-15ach6-laptop/product-reviews/itm5c62404b310aa?pid=COMGGMRSDDRGKFGU&lid=LSTCOMGGMRSDDRGKFGUT5XTRV&marketplace=FLIPKART\""
   ]
  },
  {
   "cell_type": "code",
   "execution_count": 105,
   "id": "22b50cf3",
   "metadata": {},
   "outputs": [],
   "source": [
    "soup = gethtml(site_url)"
   ]
  },
  {
   "cell_type": "code",
   "execution_count": 106,
   "id": "3efc836c",
   "metadata": {},
   "outputs": [],
   "source": [
    "def getCustomerName(soup):\n",
    "    data_string = \"\"\n",
    "    customer_list = []\n",
    "    \n",
    "    for item in soup.find_all('p', class_='_2sc7ZR _2V5EHH'):\n",
    "        data_string = data_string + item.get_text()\n",
    "        customer_list.append(data_string)\n",
    "        data_string = \"\"\n",
    "    return customer_list"
   ]
  },
  {
   "cell_type": "code",
   "execution_count": 107,
   "id": "d0c209fc",
   "metadata": {},
   "outputs": [
    {
     "name": "stdout",
     "output_type": "stream",
     "text": [
      "['Pritam Tamuli', 'Soumyajit  Biswas', 'Yash Salve', 'King King', 'Haresh  Makwana', 'Flipkart Customer', 'Kara Nuku', 'Ashutosh Dash', 'Siddharth Solanki', 'MANU A']\n"
     ]
    }
   ],
   "source": [
    "customer_res = getCustomerName(soup)\n",
    "print(customer_res)"
   ]
  },
  {
   "cell_type": "code",
   "execution_count": 108,
   "id": "2ba63de1",
   "metadata": {},
   "outputs": [
    {
     "name": "stdout",
     "output_type": "stream",
     "text": [
      "['Great product', 'Best in the market!', 'Highly recommended', 'Terrific purchase', 'Awesome', 'Brilliant', 'Super!', 'Fabulous!', 'Classy product', 'Just wow!']\n"
     ]
    }
   ],
   "source": [
    "def getCustomerReview(soup):\n",
    "    review_string = \"\"\n",
    "    review_list = []\n",
    "    \n",
    "    for item in soup.find_all('p', class_='_2-N8zT'):\n",
    "        review_string = review_string + item.get_text()\n",
    "        review_list.append(review_string)\n",
    "        review_string = \"\"\n",
    "    return review_list\n",
    "\n",
    "review_res = getCustomerReview(soup)\n",
    "print(review_res)"
   ]
  },
  {
   "cell_type": "code",
   "execution_count": 109,
   "id": "08a74cb0",
   "metadata": {},
   "outputs": [
    {
     "name": "stdout",
     "output_type": "stream",
     "text": [
      "['5', '5', '5', '5', '5', '5', '5', '5', '5', '5']\n"
     ]
    }
   ],
   "source": [
    "def getCustomerRating(soup):\n",
    "    rating_string=\"\"\n",
    "    rating_list = []\n",
    "    \n",
    "    for item in soup.find_all('div', class_='_3LWZlK _1BLPMq'):\n",
    "        rating_string = rating_string + item.get_text()\n",
    "        rating_list.append(rating_string)\n",
    "        rating_string =\"\"\n",
    "    return rating_list\n",
    "\n",
    "\n",
    "rating_res = getCustomerRating(soup)\n",
    "print(rating_res)"
   ]
  },
  {
   "cell_type": "code",
   "execution_count": 110,
   "id": "5fabe272",
   "metadata": {},
   "outputs": [],
   "source": [
    "customer_data = {\"Name\":customer_res, \"Review\":review_res, \"Rating\": rating_res}"
   ]
  },
  {
   "cell_type": "code",
   "execution_count": 111,
   "id": "5b37793a",
   "metadata": {},
   "outputs": [
    {
     "data": {
      "text/html": [
       "<div>\n",
       "<style scoped>\n",
       "    .dataframe tbody tr th:only-of-type {\n",
       "        vertical-align: middle;\n",
       "    }\n",
       "\n",
       "    .dataframe tbody tr th {\n",
       "        vertical-align: top;\n",
       "    }\n",
       "\n",
       "    .dataframe thead th {\n",
       "        text-align: right;\n",
       "    }\n",
       "</style>\n",
       "<table border=\"1\" class=\"dataframe\">\n",
       "  <thead>\n",
       "    <tr style=\"text-align: right;\">\n",
       "      <th></th>\n",
       "      <th>Name</th>\n",
       "      <th>Review</th>\n",
       "      <th>Rating</th>\n",
       "    </tr>\n",
       "  </thead>\n",
       "  <tbody>\n",
       "    <tr>\n",
       "      <th>0</th>\n",
       "      <td>Pritam Tamuli</td>\n",
       "      <td>Great product</td>\n",
       "      <td>5</td>\n",
       "    </tr>\n",
       "    <tr>\n",
       "      <th>1</th>\n",
       "      <td>Soumyajit  Biswas</td>\n",
       "      <td>Best in the market!</td>\n",
       "      <td>5</td>\n",
       "    </tr>\n",
       "    <tr>\n",
       "      <th>2</th>\n",
       "      <td>Yash Salve</td>\n",
       "      <td>Highly recommended</td>\n",
       "      <td>5</td>\n",
       "    </tr>\n",
       "    <tr>\n",
       "      <th>3</th>\n",
       "      <td>King King</td>\n",
       "      <td>Terrific purchase</td>\n",
       "      <td>5</td>\n",
       "    </tr>\n",
       "    <tr>\n",
       "      <th>4</th>\n",
       "      <td>Haresh  Makwana</td>\n",
       "      <td>Awesome</td>\n",
       "      <td>5</td>\n",
       "    </tr>\n",
       "    <tr>\n",
       "      <th>5</th>\n",
       "      <td>Flipkart Customer</td>\n",
       "      <td>Brilliant</td>\n",
       "      <td>5</td>\n",
       "    </tr>\n",
       "    <tr>\n",
       "      <th>6</th>\n",
       "      <td>Kara Nuku</td>\n",
       "      <td>Super!</td>\n",
       "      <td>5</td>\n",
       "    </tr>\n",
       "    <tr>\n",
       "      <th>7</th>\n",
       "      <td>Ashutosh Dash</td>\n",
       "      <td>Fabulous!</td>\n",
       "      <td>5</td>\n",
       "    </tr>\n",
       "    <tr>\n",
       "      <th>8</th>\n",
       "      <td>Siddharth Solanki</td>\n",
       "      <td>Classy product</td>\n",
       "      <td>5</td>\n",
       "    </tr>\n",
       "    <tr>\n",
       "      <th>9</th>\n",
       "      <td>MANU A</td>\n",
       "      <td>Just wow!</td>\n",
       "      <td>5</td>\n",
       "    </tr>\n",
       "  </tbody>\n",
       "</table>\n",
       "</div>"
      ],
      "text/plain": [
       "                Name               Review Rating\n",
       "0      Pritam Tamuli        Great product      5\n",
       "1  Soumyajit  Biswas  Best in the market!      5\n",
       "2         Yash Salve   Highly recommended      5\n",
       "3          King King    Terrific purchase      5\n",
       "4    Haresh  Makwana              Awesome      5\n",
       "5  Flipkart Customer            Brilliant      5\n",
       "6          Kara Nuku               Super!      5\n",
       "7      Ashutosh Dash            Fabulous!      5\n",
       "8  Siddharth Solanki       Classy product      5\n",
       "9             MANU A            Just wow!      5"
      ]
     },
     "execution_count": 111,
     "metadata": {},
     "output_type": "execute_result"
    }
   ],
   "source": [
    "df = pd.DataFrame(customer_data)\n",
    "df"
   ]
  },
  {
   "cell_type": "code",
   "execution_count": null,
   "id": "d5306ea9",
   "metadata": {},
   "outputs": [],
   "source": []
  }
 ],
 "metadata": {
  "kernelspec": {
   "display_name": "Python 3 (ipykernel)",
   "language": "python",
   "name": "python3"
  },
  "language_info": {
   "codemirror_mode": {
    "name": "ipython",
    "version": 3
   },
   "file_extension": ".py",
   "mimetype": "text/x-python",
   "name": "python",
   "nbconvert_exporter": "python",
   "pygments_lexer": "ipython3",
   "version": "3.9.13"
  }
 },
 "nbformat": 4,
 "nbformat_minor": 5
}
